{
 "cells": [
  {
   "cell_type": "code",
   "execution_count": 2,
   "metadata": {},
   "outputs": [],
   "source": [
    "import pandas as pd\n",
    "import numpy as np\n",
    "import matplotlib.pyplot as plt\n",
    "import seaborn as sns\n",
    "from sklearn import tree\n",
    "from sklearn.tree import DecisionTreeClassifier\n",
    "from sklearn.model_selection import train_test_split\n",
    "from sklearn.model_selection import cross_val_score\n",
    "from sklearn.metrics import confusion_matrix\n",
    "import pydot"
   ]
  },
  {
   "cell_type": "code",
   "execution_count": 3,
   "metadata": {},
   "outputs": [],
   "source": [
    "data_pathname = \"/Users/danielbrand/Documents/Uni/Master/1. Semester/Big Data Management/Final Project/final_full_station70_cyclic_<5_yesno.csv\""
   ]
  },
  {
   "cell_type": "code",
   "execution_count": 4,
   "metadata": {},
   "outputs": [],
   "source": [
    "data = pd.read_csv(data_pathname)"
   ]
  },
  {
   "cell_type": "code",
   "execution_count": 122,
   "metadata": {},
   "outputs": [
    {
     "data": {
      "text/html": [
       "<div>\n",
       "<style scoped>\n",
       "    .dataframe tbody tr th:only-of-type {\n",
       "        vertical-align: middle;\n",
       "    }\n",
       "\n",
       "    .dataframe tbody tr th {\n",
       "        vertical-align: top;\n",
       "    }\n",
       "\n",
       "    .dataframe thead th {\n",
       "        text-align: right;\n",
       "    }\n",
       "</style>\n",
       "<table border=\"1\" class=\"dataframe\">\n",
       "  <thead>\n",
       "    <tr style=\"text-align: right;\">\n",
       "      <th></th>\n",
       "      <th>station_id</th>\n",
       "      <th>bikes_available</th>\n",
       "      <th>docks_available</th>\n",
       "      <th>hour</th>\n",
       "      <th>minute</th>\n",
       "      <th>minutes_after_midnight</th>\n",
       "      <th>daytime_cyclic</th>\n",
       "      <th>day_is_monday</th>\n",
       "      <th>day_is_tuesday</th>\n",
       "      <th>day_is_wednesday</th>\n",
       "      <th>...</th>\n",
       "      <th>mean_visibility_miles</th>\n",
       "      <th>min_visibility_miles</th>\n",
       "      <th>max_wind_Speed_mph</th>\n",
       "      <th>mean_wind_speed_mph</th>\n",
       "      <th>max_gust_speed_mph</th>\n",
       "      <th>wind_direction_cyclic</th>\n",
       "      <th>precipitation_inches</th>\n",
       "      <th>cloud_cover</th>\n",
       "      <th>is_rainy</th>\n",
       "      <th>is_foggy</th>\n",
       "    </tr>\n",
       "  </thead>\n",
       "  <tbody>\n",
       "    <tr>\n",
       "      <th>count</th>\n",
       "      <td>1028448.0</td>\n",
       "      <td>1.028448e+06</td>\n",
       "      <td>1.028448e+06</td>\n",
       "      <td>1.028448e+06</td>\n",
       "      <td>1.028448e+06</td>\n",
       "      <td>1.028448e+06</td>\n",
       "      <td>1.028448e+06</td>\n",
       "      <td>1.028448e+06</td>\n",
       "      <td>1.028448e+06</td>\n",
       "      <td>1.028448e+06</td>\n",
       "      <td>...</td>\n",
       "      <td>1.028448e+06</td>\n",
       "      <td>1.028448e+06</td>\n",
       "      <td>1.028448e+06</td>\n",
       "      <td>1.028448e+06</td>\n",
       "      <td>1.028448e+06</td>\n",
       "      <td>1.028448e+06</td>\n",
       "      <td>1.028448e+06</td>\n",
       "      <td>1.028448e+06</td>\n",
       "      <td>1.028448e+06</td>\n",
       "      <td>1.028448e+06</td>\n",
       "    </tr>\n",
       "    <tr>\n",
       "      <th>mean</th>\n",
       "      <td>70.0</td>\n",
       "      <td>1.073462e+01</td>\n",
       "      <td>8.228206e+00</td>\n",
       "      <td>1.150584e+01</td>\n",
       "      <td>2.950632e+01</td>\n",
       "      <td>7.198569e+02</td>\n",
       "      <td>1.823208e-04</td>\n",
       "      <td>1.451527e-01</td>\n",
       "      <td>1.373263e-01</td>\n",
       "      <td>1.430768e-01</td>\n",
       "      <td>...</td>\n",
       "      <td>9.541329e+00</td>\n",
       "      <td>7.866014e+00</td>\n",
       "      <td>1.896432e+01</td>\n",
       "      <td>8.217201e+00</td>\n",
       "      <td>2.417791e+01</td>\n",
       "      <td>9.198566e-02</td>\n",
       "      <td>3.475954e-02</td>\n",
       "      <td>3.860931e+00</td>\n",
       "      <td>1.399390e-01</td>\n",
       "      <td>8.783915e-02</td>\n",
       "    </tr>\n",
       "    <tr>\n",
       "      <th>std</th>\n",
       "      <td>0.0</td>\n",
       "      <td>4.888500e+00</td>\n",
       "      <td>4.881117e+00</td>\n",
       "      <td>6.922874e+00</td>\n",
       "      <td>1.731767e+01</td>\n",
       "      <td>4.157334e+02</td>\n",
       "      <td>7.070727e-01</td>\n",
       "      <td>3.522549e-01</td>\n",
       "      <td>3.441917e-01</td>\n",
       "      <td>3.501513e-01</td>\n",
       "      <td>...</td>\n",
       "      <td>1.029919e+00</td>\n",
       "      <td>2.885557e+00</td>\n",
       "      <td>5.763818e+00</td>\n",
       "      <td>3.625738e+00</td>\n",
       "      <td>7.969023e+00</td>\n",
       "      <td>4.831270e-01</td>\n",
       "      <td>1.774723e-01</td>\n",
       "      <td>2.265881e+00</td>\n",
       "      <td>3.469239e-01</td>\n",
       "      <td>2.830610e-01</td>\n",
       "    </tr>\n",
       "    <tr>\n",
       "      <th>min</th>\n",
       "      <td>70.0</td>\n",
       "      <td>0.000000e+00</td>\n",
       "      <td>0.000000e+00</td>\n",
       "      <td>0.000000e+00</td>\n",
       "      <td>0.000000e+00</td>\n",
       "      <td>0.000000e+00</td>\n",
       "      <td>-1.000000e+00</td>\n",
       "      <td>0.000000e+00</td>\n",
       "      <td>0.000000e+00</td>\n",
       "      <td>0.000000e+00</td>\n",
       "      <td>...</td>\n",
       "      <td>4.000000e+00</td>\n",
       "      <td>0.000000e+00</td>\n",
       "      <td>5.000000e+00</td>\n",
       "      <td>0.000000e+00</td>\n",
       "      <td>6.000000e+00</td>\n",
       "      <td>-1.000000e+00</td>\n",
       "      <td>0.000000e+00</td>\n",
       "      <td>0.000000e+00</td>\n",
       "      <td>0.000000e+00</td>\n",
       "      <td>0.000000e+00</td>\n",
       "    </tr>\n",
       "    <tr>\n",
       "      <th>25%</th>\n",
       "      <td>70.0</td>\n",
       "      <td>7.000000e+00</td>\n",
       "      <td>4.000000e+00</td>\n",
       "      <td>6.000000e+00</td>\n",
       "      <td>1.500000e+01</td>\n",
       "      <td>3.600000e+02</td>\n",
       "      <td>-7.071068e-01</td>\n",
       "      <td>0.000000e+00</td>\n",
       "      <td>0.000000e+00</td>\n",
       "      <td>0.000000e+00</td>\n",
       "      <td>...</td>\n",
       "      <td>1.000000e+01</td>\n",
       "      <td>7.000000e+00</td>\n",
       "      <td>1.500000e+01</td>\n",
       "      <td>6.000000e+00</td>\n",
       "      <td>2.000000e+01</td>\n",
       "      <td>-1.736482e-01</td>\n",
       "      <td>0.000000e+00</td>\n",
       "      <td>2.000000e+00</td>\n",
       "      <td>0.000000e+00</td>\n",
       "      <td>0.000000e+00</td>\n",
       "    </tr>\n",
       "    <tr>\n",
       "      <th>50%</th>\n",
       "      <td>70.0</td>\n",
       "      <td>1.100000e+01</td>\n",
       "      <td>8.000000e+00</td>\n",
       "      <td>1.200000e+01</td>\n",
       "      <td>3.000000e+01</td>\n",
       "      <td>7.200000e+02</td>\n",
       "      <td>6.123234e-17</td>\n",
       "      <td>0.000000e+00</td>\n",
       "      <td>0.000000e+00</td>\n",
       "      <td>0.000000e+00</td>\n",
       "      <td>...</td>\n",
       "      <td>1.000000e+01</td>\n",
       "      <td>9.000000e+00</td>\n",
       "      <td>2.000000e+01</td>\n",
       "      <td>8.000000e+00</td>\n",
       "      <td>2.400000e+01</td>\n",
       "      <td>1.218693e-01</td>\n",
       "      <td>0.000000e+00</td>\n",
       "      <td>4.000000e+00</td>\n",
       "      <td>0.000000e+00</td>\n",
       "      <td>0.000000e+00</td>\n",
       "    </tr>\n",
       "    <tr>\n",
       "      <th>75%</th>\n",
       "      <td>70.0</td>\n",
       "      <td>1.500000e+01</td>\n",
       "      <td>1.200000e+01</td>\n",
       "      <td>1.800000e+01</td>\n",
       "      <td>4.500000e+01</td>\n",
       "      <td>1.080000e+03</td>\n",
       "      <td>7.071068e-01</td>\n",
       "      <td>0.000000e+00</td>\n",
       "      <td>0.000000e+00</td>\n",
       "      <td>0.000000e+00</td>\n",
       "      <td>...</td>\n",
       "      <td>1.000000e+01</td>\n",
       "      <td>1.000000e+01</td>\n",
       "      <td>2.200000e+01</td>\n",
       "      <td>1.000000e+01</td>\n",
       "      <td>2.800000e+01</td>\n",
       "      <td>4.539905e-01</td>\n",
       "      <td>0.000000e+00</td>\n",
       "      <td>6.000000e+00</td>\n",
       "      <td>0.000000e+00</td>\n",
       "      <td>0.000000e+00</td>\n",
       "    </tr>\n",
       "    <tr>\n",
       "      <th>max</th>\n",
       "      <td>70.0</td>\n",
       "      <td>1.900000e+01</td>\n",
       "      <td>1.900000e+01</td>\n",
       "      <td>2.300000e+01</td>\n",
       "      <td>5.900000e+01</td>\n",
       "      <td>1.439000e+03</td>\n",
       "      <td>1.000000e+00</td>\n",
       "      <td>1.000000e+00</td>\n",
       "      <td>1.000000e+00</td>\n",
       "      <td>1.000000e+00</td>\n",
       "      <td>...</td>\n",
       "      <td>1.000000e+01</td>\n",
       "      <td>1.000000e+01</td>\n",
       "      <td>4.300000e+01</td>\n",
       "      <td>2.200000e+01</td>\n",
       "      <td>9.300000e+01</td>\n",
       "      <td>1.000000e+00</td>\n",
       "      <td>3.120000e+00</td>\n",
       "      <td>8.000000e+00</td>\n",
       "      <td>1.000000e+00</td>\n",
       "      <td>1.000000e+00</td>\n",
       "    </tr>\n",
       "  </tbody>\n",
       "</table>\n",
       "<p>8 rows × 50 columns</p>\n",
       "</div>"
      ],
      "text/plain": [
       "       station_id  bikes_available  docks_available          hour  \\\n",
       "count   1028448.0     1.028448e+06     1.028448e+06  1.028448e+06   \n",
       "mean         70.0     1.073462e+01     8.228206e+00  1.150584e+01   \n",
       "std           0.0     4.888500e+00     4.881117e+00  6.922874e+00   \n",
       "min          70.0     0.000000e+00     0.000000e+00  0.000000e+00   \n",
       "25%          70.0     7.000000e+00     4.000000e+00  6.000000e+00   \n",
       "50%          70.0     1.100000e+01     8.000000e+00  1.200000e+01   \n",
       "75%          70.0     1.500000e+01     1.200000e+01  1.800000e+01   \n",
       "max          70.0     1.900000e+01     1.900000e+01  2.300000e+01   \n",
       "\n",
       "             minute  minutes_after_midnight  daytime_cyclic  day_is_monday  \\\n",
       "count  1.028448e+06            1.028448e+06    1.028448e+06   1.028448e+06   \n",
       "mean   2.950632e+01            7.198569e+02    1.823208e-04   1.451527e-01   \n",
       "std    1.731767e+01            4.157334e+02    7.070727e-01   3.522549e-01   \n",
       "min    0.000000e+00            0.000000e+00   -1.000000e+00   0.000000e+00   \n",
       "25%    1.500000e+01            3.600000e+02   -7.071068e-01   0.000000e+00   \n",
       "50%    3.000000e+01            7.200000e+02    6.123234e-17   0.000000e+00   \n",
       "75%    4.500000e+01            1.080000e+03    7.071068e-01   0.000000e+00   \n",
       "max    5.900000e+01            1.439000e+03    1.000000e+00   1.000000e+00   \n",
       "\n",
       "       day_is_tuesday  day_is_wednesday      ...       mean_visibility_miles  \\\n",
       "count    1.028448e+06      1.028448e+06      ...                1.028448e+06   \n",
       "mean     1.373263e-01      1.430768e-01      ...                9.541329e+00   \n",
       "std      3.441917e-01      3.501513e-01      ...                1.029919e+00   \n",
       "min      0.000000e+00      0.000000e+00      ...                4.000000e+00   \n",
       "25%      0.000000e+00      0.000000e+00      ...                1.000000e+01   \n",
       "50%      0.000000e+00      0.000000e+00      ...                1.000000e+01   \n",
       "75%      0.000000e+00      0.000000e+00      ...                1.000000e+01   \n",
       "max      1.000000e+00      1.000000e+00      ...                1.000000e+01   \n",
       "\n",
       "       min_visibility_miles  max_wind_Speed_mph  mean_wind_speed_mph  \\\n",
       "count          1.028448e+06        1.028448e+06         1.028448e+06   \n",
       "mean           7.866014e+00        1.896432e+01         8.217201e+00   \n",
       "std            2.885557e+00        5.763818e+00         3.625738e+00   \n",
       "min            0.000000e+00        5.000000e+00         0.000000e+00   \n",
       "25%            7.000000e+00        1.500000e+01         6.000000e+00   \n",
       "50%            9.000000e+00        2.000000e+01         8.000000e+00   \n",
       "75%            1.000000e+01        2.200000e+01         1.000000e+01   \n",
       "max            1.000000e+01        4.300000e+01         2.200000e+01   \n",
       "\n",
       "       max_gust_speed_mph  wind_direction_cyclic  precipitation_inches  \\\n",
       "count        1.028448e+06           1.028448e+06          1.028448e+06   \n",
       "mean         2.417791e+01           9.198566e-02          3.475954e-02   \n",
       "std          7.969023e+00           4.831270e-01          1.774723e-01   \n",
       "min          6.000000e+00          -1.000000e+00          0.000000e+00   \n",
       "25%          2.000000e+01          -1.736482e-01          0.000000e+00   \n",
       "50%          2.400000e+01           1.218693e-01          0.000000e+00   \n",
       "75%          2.800000e+01           4.539905e-01          0.000000e+00   \n",
       "max          9.300000e+01           1.000000e+00          3.120000e+00   \n",
       "\n",
       "        cloud_cover      is_rainy      is_foggy  \n",
       "count  1.028448e+06  1.028448e+06  1.028448e+06  \n",
       "mean   3.860931e+00  1.399390e-01  8.783915e-02  \n",
       "std    2.265881e+00  3.469239e-01  2.830610e-01  \n",
       "min    0.000000e+00  0.000000e+00  0.000000e+00  \n",
       "25%    2.000000e+00  0.000000e+00  0.000000e+00  \n",
       "50%    4.000000e+00  0.000000e+00  0.000000e+00  \n",
       "75%    6.000000e+00  0.000000e+00  0.000000e+00  \n",
       "max    8.000000e+00  1.000000e+00  1.000000e+00  \n",
       "\n",
       "[8 rows x 50 columns]"
      ]
     },
     "execution_count": 122,
     "metadata": {},
     "output_type": "execute_result"
    }
   ],
   "source": [
    "data.describe()"
   ]
  },
  {
   "cell_type": "code",
   "execution_count": 5,
   "metadata": {},
   "outputs": [],
   "source": [
    "data = data.dropna(axis=0)"
   ]
  },
  {
   "cell_type": "code",
   "execution_count": 124,
   "metadata": {},
   "outputs": [
    {
     "data": {
      "text/html": [
       "<div>\n",
       "<style scoped>\n",
       "    .dataframe tbody tr th:only-of-type {\n",
       "        vertical-align: middle;\n",
       "    }\n",
       "\n",
       "    .dataframe tbody tr th {\n",
       "        vertical-align: top;\n",
       "    }\n",
       "\n",
       "    .dataframe thead th {\n",
       "        text-align: right;\n",
       "    }\n",
       "</style>\n",
       "<table border=\"1\" class=\"dataframe\">\n",
       "  <thead>\n",
       "    <tr style=\"text-align: right;\">\n",
       "      <th></th>\n",
       "      <th>station_id</th>\n",
       "      <th>bikes_available</th>\n",
       "      <th>docks_available</th>\n",
       "      <th>hour</th>\n",
       "      <th>minute</th>\n",
       "      <th>minutes_after_midnight</th>\n",
       "      <th>daytime_cyclic</th>\n",
       "      <th>day_is_monday</th>\n",
       "      <th>day_is_tuesday</th>\n",
       "      <th>day_is_wednesday</th>\n",
       "      <th>...</th>\n",
       "      <th>mean_visibility_miles</th>\n",
       "      <th>min_visibility_miles</th>\n",
       "      <th>max_wind_Speed_mph</th>\n",
       "      <th>mean_wind_speed_mph</th>\n",
       "      <th>max_gust_speed_mph</th>\n",
       "      <th>wind_direction_cyclic</th>\n",
       "      <th>precipitation_inches</th>\n",
       "      <th>cloud_cover</th>\n",
       "      <th>is_rainy</th>\n",
       "      <th>is_foggy</th>\n",
       "    </tr>\n",
       "  </thead>\n",
       "  <tbody>\n",
       "    <tr>\n",
       "      <th>count</th>\n",
       "      <td>1028448.0</td>\n",
       "      <td>1.028448e+06</td>\n",
       "      <td>1.028448e+06</td>\n",
       "      <td>1.028448e+06</td>\n",
       "      <td>1.028448e+06</td>\n",
       "      <td>1.028448e+06</td>\n",
       "      <td>1.028448e+06</td>\n",
       "      <td>1.028448e+06</td>\n",
       "      <td>1.028448e+06</td>\n",
       "      <td>1.028448e+06</td>\n",
       "      <td>...</td>\n",
       "      <td>1.028448e+06</td>\n",
       "      <td>1.028448e+06</td>\n",
       "      <td>1.028448e+06</td>\n",
       "      <td>1.028448e+06</td>\n",
       "      <td>1.028448e+06</td>\n",
       "      <td>1.028448e+06</td>\n",
       "      <td>1.028448e+06</td>\n",
       "      <td>1.028448e+06</td>\n",
       "      <td>1.028448e+06</td>\n",
       "      <td>1.028448e+06</td>\n",
       "    </tr>\n",
       "    <tr>\n",
       "      <th>mean</th>\n",
       "      <td>70.0</td>\n",
       "      <td>1.073462e+01</td>\n",
       "      <td>8.228206e+00</td>\n",
       "      <td>1.150584e+01</td>\n",
       "      <td>2.950632e+01</td>\n",
       "      <td>7.198569e+02</td>\n",
       "      <td>1.823208e-04</td>\n",
       "      <td>1.451527e-01</td>\n",
       "      <td>1.373263e-01</td>\n",
       "      <td>1.430768e-01</td>\n",
       "      <td>...</td>\n",
       "      <td>9.541329e+00</td>\n",
       "      <td>7.866014e+00</td>\n",
       "      <td>1.896432e+01</td>\n",
       "      <td>8.217201e+00</td>\n",
       "      <td>2.417791e+01</td>\n",
       "      <td>9.198566e-02</td>\n",
       "      <td>3.475954e-02</td>\n",
       "      <td>3.860931e+00</td>\n",
       "      <td>1.399390e-01</td>\n",
       "      <td>8.783915e-02</td>\n",
       "    </tr>\n",
       "    <tr>\n",
       "      <th>std</th>\n",
       "      <td>0.0</td>\n",
       "      <td>4.888500e+00</td>\n",
       "      <td>4.881117e+00</td>\n",
       "      <td>6.922874e+00</td>\n",
       "      <td>1.731767e+01</td>\n",
       "      <td>4.157334e+02</td>\n",
       "      <td>7.070727e-01</td>\n",
       "      <td>3.522549e-01</td>\n",
       "      <td>3.441917e-01</td>\n",
       "      <td>3.501513e-01</td>\n",
       "      <td>...</td>\n",
       "      <td>1.029919e+00</td>\n",
       "      <td>2.885557e+00</td>\n",
       "      <td>5.763818e+00</td>\n",
       "      <td>3.625738e+00</td>\n",
       "      <td>7.969023e+00</td>\n",
       "      <td>4.831270e-01</td>\n",
       "      <td>1.774723e-01</td>\n",
       "      <td>2.265881e+00</td>\n",
       "      <td>3.469239e-01</td>\n",
       "      <td>2.830610e-01</td>\n",
       "    </tr>\n",
       "    <tr>\n",
       "      <th>min</th>\n",
       "      <td>70.0</td>\n",
       "      <td>0.000000e+00</td>\n",
       "      <td>0.000000e+00</td>\n",
       "      <td>0.000000e+00</td>\n",
       "      <td>0.000000e+00</td>\n",
       "      <td>0.000000e+00</td>\n",
       "      <td>-1.000000e+00</td>\n",
       "      <td>0.000000e+00</td>\n",
       "      <td>0.000000e+00</td>\n",
       "      <td>0.000000e+00</td>\n",
       "      <td>...</td>\n",
       "      <td>4.000000e+00</td>\n",
       "      <td>0.000000e+00</td>\n",
       "      <td>5.000000e+00</td>\n",
       "      <td>0.000000e+00</td>\n",
       "      <td>6.000000e+00</td>\n",
       "      <td>-1.000000e+00</td>\n",
       "      <td>0.000000e+00</td>\n",
       "      <td>0.000000e+00</td>\n",
       "      <td>0.000000e+00</td>\n",
       "      <td>0.000000e+00</td>\n",
       "    </tr>\n",
       "    <tr>\n",
       "      <th>25%</th>\n",
       "      <td>70.0</td>\n",
       "      <td>7.000000e+00</td>\n",
       "      <td>4.000000e+00</td>\n",
       "      <td>6.000000e+00</td>\n",
       "      <td>1.500000e+01</td>\n",
       "      <td>3.600000e+02</td>\n",
       "      <td>-7.071068e-01</td>\n",
       "      <td>0.000000e+00</td>\n",
       "      <td>0.000000e+00</td>\n",
       "      <td>0.000000e+00</td>\n",
       "      <td>...</td>\n",
       "      <td>1.000000e+01</td>\n",
       "      <td>7.000000e+00</td>\n",
       "      <td>1.500000e+01</td>\n",
       "      <td>6.000000e+00</td>\n",
       "      <td>2.000000e+01</td>\n",
       "      <td>-1.736482e-01</td>\n",
       "      <td>0.000000e+00</td>\n",
       "      <td>2.000000e+00</td>\n",
       "      <td>0.000000e+00</td>\n",
       "      <td>0.000000e+00</td>\n",
       "    </tr>\n",
       "    <tr>\n",
       "      <th>50%</th>\n",
       "      <td>70.0</td>\n",
       "      <td>1.100000e+01</td>\n",
       "      <td>8.000000e+00</td>\n",
       "      <td>1.200000e+01</td>\n",
       "      <td>3.000000e+01</td>\n",
       "      <td>7.200000e+02</td>\n",
       "      <td>6.123234e-17</td>\n",
       "      <td>0.000000e+00</td>\n",
       "      <td>0.000000e+00</td>\n",
       "      <td>0.000000e+00</td>\n",
       "      <td>...</td>\n",
       "      <td>1.000000e+01</td>\n",
       "      <td>9.000000e+00</td>\n",
       "      <td>2.000000e+01</td>\n",
       "      <td>8.000000e+00</td>\n",
       "      <td>2.400000e+01</td>\n",
       "      <td>1.218693e-01</td>\n",
       "      <td>0.000000e+00</td>\n",
       "      <td>4.000000e+00</td>\n",
       "      <td>0.000000e+00</td>\n",
       "      <td>0.000000e+00</td>\n",
       "    </tr>\n",
       "    <tr>\n",
       "      <th>75%</th>\n",
       "      <td>70.0</td>\n",
       "      <td>1.500000e+01</td>\n",
       "      <td>1.200000e+01</td>\n",
       "      <td>1.800000e+01</td>\n",
       "      <td>4.500000e+01</td>\n",
       "      <td>1.080000e+03</td>\n",
       "      <td>7.071068e-01</td>\n",
       "      <td>0.000000e+00</td>\n",
       "      <td>0.000000e+00</td>\n",
       "      <td>0.000000e+00</td>\n",
       "      <td>...</td>\n",
       "      <td>1.000000e+01</td>\n",
       "      <td>1.000000e+01</td>\n",
       "      <td>2.200000e+01</td>\n",
       "      <td>1.000000e+01</td>\n",
       "      <td>2.800000e+01</td>\n",
       "      <td>4.539905e-01</td>\n",
       "      <td>0.000000e+00</td>\n",
       "      <td>6.000000e+00</td>\n",
       "      <td>0.000000e+00</td>\n",
       "      <td>0.000000e+00</td>\n",
       "    </tr>\n",
       "    <tr>\n",
       "      <th>max</th>\n",
       "      <td>70.0</td>\n",
       "      <td>1.900000e+01</td>\n",
       "      <td>1.900000e+01</td>\n",
       "      <td>2.300000e+01</td>\n",
       "      <td>5.900000e+01</td>\n",
       "      <td>1.439000e+03</td>\n",
       "      <td>1.000000e+00</td>\n",
       "      <td>1.000000e+00</td>\n",
       "      <td>1.000000e+00</td>\n",
       "      <td>1.000000e+00</td>\n",
       "      <td>...</td>\n",
       "      <td>1.000000e+01</td>\n",
       "      <td>1.000000e+01</td>\n",
       "      <td>4.300000e+01</td>\n",
       "      <td>2.200000e+01</td>\n",
       "      <td>9.300000e+01</td>\n",
       "      <td>1.000000e+00</td>\n",
       "      <td>3.120000e+00</td>\n",
       "      <td>8.000000e+00</td>\n",
       "      <td>1.000000e+00</td>\n",
       "      <td>1.000000e+00</td>\n",
       "    </tr>\n",
       "  </tbody>\n",
       "</table>\n",
       "<p>8 rows × 50 columns</p>\n",
       "</div>"
      ],
      "text/plain": [
       "       station_id  bikes_available  docks_available          hour  \\\n",
       "count   1028448.0     1.028448e+06     1.028448e+06  1.028448e+06   \n",
       "mean         70.0     1.073462e+01     8.228206e+00  1.150584e+01   \n",
       "std           0.0     4.888500e+00     4.881117e+00  6.922874e+00   \n",
       "min          70.0     0.000000e+00     0.000000e+00  0.000000e+00   \n",
       "25%          70.0     7.000000e+00     4.000000e+00  6.000000e+00   \n",
       "50%          70.0     1.100000e+01     8.000000e+00  1.200000e+01   \n",
       "75%          70.0     1.500000e+01     1.200000e+01  1.800000e+01   \n",
       "max          70.0     1.900000e+01     1.900000e+01  2.300000e+01   \n",
       "\n",
       "             minute  minutes_after_midnight  daytime_cyclic  day_is_monday  \\\n",
       "count  1.028448e+06            1.028448e+06    1.028448e+06   1.028448e+06   \n",
       "mean   2.950632e+01            7.198569e+02    1.823208e-04   1.451527e-01   \n",
       "std    1.731767e+01            4.157334e+02    7.070727e-01   3.522549e-01   \n",
       "min    0.000000e+00            0.000000e+00   -1.000000e+00   0.000000e+00   \n",
       "25%    1.500000e+01            3.600000e+02   -7.071068e-01   0.000000e+00   \n",
       "50%    3.000000e+01            7.200000e+02    6.123234e-17   0.000000e+00   \n",
       "75%    4.500000e+01            1.080000e+03    7.071068e-01   0.000000e+00   \n",
       "max    5.900000e+01            1.439000e+03    1.000000e+00   1.000000e+00   \n",
       "\n",
       "       day_is_tuesday  day_is_wednesday      ...       mean_visibility_miles  \\\n",
       "count    1.028448e+06      1.028448e+06      ...                1.028448e+06   \n",
       "mean     1.373263e-01      1.430768e-01      ...                9.541329e+00   \n",
       "std      3.441917e-01      3.501513e-01      ...                1.029919e+00   \n",
       "min      0.000000e+00      0.000000e+00      ...                4.000000e+00   \n",
       "25%      0.000000e+00      0.000000e+00      ...                1.000000e+01   \n",
       "50%      0.000000e+00      0.000000e+00      ...                1.000000e+01   \n",
       "75%      0.000000e+00      0.000000e+00      ...                1.000000e+01   \n",
       "max      1.000000e+00      1.000000e+00      ...                1.000000e+01   \n",
       "\n",
       "       min_visibility_miles  max_wind_Speed_mph  mean_wind_speed_mph  \\\n",
       "count          1.028448e+06        1.028448e+06         1.028448e+06   \n",
       "mean           7.866014e+00        1.896432e+01         8.217201e+00   \n",
       "std            2.885557e+00        5.763818e+00         3.625738e+00   \n",
       "min            0.000000e+00        5.000000e+00         0.000000e+00   \n",
       "25%            7.000000e+00        1.500000e+01         6.000000e+00   \n",
       "50%            9.000000e+00        2.000000e+01         8.000000e+00   \n",
       "75%            1.000000e+01        2.200000e+01         1.000000e+01   \n",
       "max            1.000000e+01        4.300000e+01         2.200000e+01   \n",
       "\n",
       "       max_gust_speed_mph  wind_direction_cyclic  precipitation_inches  \\\n",
       "count        1.028448e+06           1.028448e+06          1.028448e+06   \n",
       "mean         2.417791e+01           9.198566e-02          3.475954e-02   \n",
       "std          7.969023e+00           4.831270e-01          1.774723e-01   \n",
       "min          6.000000e+00          -1.000000e+00          0.000000e+00   \n",
       "25%          2.000000e+01          -1.736482e-01          0.000000e+00   \n",
       "50%          2.400000e+01           1.218693e-01          0.000000e+00   \n",
       "75%          2.800000e+01           4.539905e-01          0.000000e+00   \n",
       "max          9.300000e+01           1.000000e+00          3.120000e+00   \n",
       "\n",
       "        cloud_cover      is_rainy      is_foggy  \n",
       "count  1.028448e+06  1.028448e+06  1.028448e+06  \n",
       "mean   3.860931e+00  1.399390e-01  8.783915e-02  \n",
       "std    2.265881e+00  3.469239e-01  2.830610e-01  \n",
       "min    0.000000e+00  0.000000e+00  0.000000e+00  \n",
       "25%    2.000000e+00  0.000000e+00  0.000000e+00  \n",
       "50%    4.000000e+00  0.000000e+00  0.000000e+00  \n",
       "75%    6.000000e+00  0.000000e+00  0.000000e+00  \n",
       "max    8.000000e+00  1.000000e+00  1.000000e+00  \n",
       "\n",
       "[8 rows x 50 columns]"
      ]
     },
     "execution_count": 124,
     "metadata": {},
     "output_type": "execute_result"
    }
   ],
   "source": [
    "data.describe()"
   ]
  },
  {
   "cell_type": "code",
   "execution_count": 125,
   "metadata": {},
   "outputs": [
    {
     "data": {
      "text/plain": [
       "Index(['station_id', 'bikes_available', 'docks_available', 'date', 'hour',\n",
       "       'minute', 'minutes_after_midnight', 'daytime_cyclic', 'weekday_name',\n",
       "       'day_is_monday', 'day_is_tuesday', 'day_is_wednesday',\n",
       "       'day_is_thursday', 'day_is_friday', 'day_is_saturday', 'day_is_sunday',\n",
       "       'is_weekend', 'month_name', 'month_is_january', 'month_is_february',\n",
       "       'month_is_march', 'month_is_april', 'month_is_may', 'month_is_june',\n",
       "       'month_is_july', 'month_is_august', 'month_is_september',\n",
       "       'month_is_october', 'month_is_november', 'month_is_december',\n",
       "       'max_temperature_f', 'mean_temperature_f', 'min_temperature_f',\n",
       "       'max_dew_point_f', 'mean_dew_point_f', 'min_dew_point_f',\n",
       "       'max_humidity', 'mean_humidity', 'min_humidity',\n",
       "       'max_sea_level_pressure_inches', 'mean_sea_level_pressure_inches',\n",
       "       'min_sea_level_pressure_inches', 'max_visibility_miles',\n",
       "       'mean_visibility_miles', 'min_visibility_miles', 'max_wind_Speed_mph',\n",
       "       'mean_wind_speed_mph', 'max_gust_speed_mph', 'wind_direction_cyclic',\n",
       "       'precipitation_inches', 'cloud_cover', 'is_rainy', 'is_foggy',\n",
       "       'enough_bikes'],\n",
       "      dtype='object')"
      ]
     },
     "execution_count": 125,
     "metadata": {},
     "output_type": "execute_result"
    }
   ],
   "source": [
    "data.columns"
   ]
  },
  {
   "cell_type": "markdown",
   "metadata": {},
   "source": [
    "### Count the number of \"Yes\" and \"No\""
   ]
  },
  {
   "cell_type": "code",
   "execution_count": 48,
   "metadata": {},
   "outputs": [
    {
     "data": {
      "text/plain": [
       "True     884692\n",
       "False    143756\n",
       "Name: enough_bikes_available, dtype: int64"
      ]
     },
     "execution_count": 48,
     "metadata": {},
     "output_type": "execute_result"
    }
   ],
   "source": [
    "data.iloc[:,53].value_counts()"
   ]
  },
  {
   "cell_type": "markdown",
   "metadata": {},
   "source": [
    "#### The class distribution in our Dataset is 86,02% \"Yes\" and the rest \"No\""
   ]
  },
  {
   "cell_type": "code",
   "execution_count": 49,
   "metadata": {},
   "outputs": [
    {
     "name": "stdout",
     "output_type": "stream",
     "text": [
      "0.8602129209096734\n"
     ]
    }
   ],
   "source": [
    "class_distribution = 884692/(143765+884692)\n",
    "print(class_distribution)"
   ]
  },
  {
   "cell_type": "markdown",
   "metadata": {},
   "source": [
    "### Assign y as target variable"
   ]
  },
  {
   "cell_type": "code",
   "execution_count": 8,
   "metadata": {},
   "outputs": [],
   "source": [
    "y = data.enough_bikes"
   ]
  },
  {
   "cell_type": "code",
   "execution_count": 51,
   "metadata": {},
   "outputs": [],
   "source": [
    "data_features = ['daytime_cyclic',\n",
    "                 'day_is_monday', 'day_is_tuesday', 'day_is_wednesday',\n",
    "                 'day_is_thursday', 'day_is_friday', 'day_is_saturday', 'day_is_sunday',\n",
    "                 'is_weekend', 'month_is_january', 'month_is_february',\n",
    "                 'month_is_march', 'month_is_april', 'month_is_may', 'month_is_june',\n",
    "                 'month_is_july', 'month_is_august', 'month_is_september',\n",
    "                 'month_is_october', 'month_is_november', 'month_is_december',\n",
    "                 'max_temperature_f', 'mean_temperature_f', 'min_temperature_f',\n",
    "                 'max_dew_point_f', 'mean_dew_point_f', 'min_dew_point_f',\n",
    "                 'max_humidity', 'mean_humidity', 'min_humidity',\n",
    "                 'max_sea_level_pressure_inches', 'mean_sea_level_pressure_inches',\n",
    "                 'min_sea_level_pressure_inches', 'max_visibility_miles',\n",
    "                 'mean_visibility_miles', 'min_visibility_miles', 'max_wind_Speed_mph',\n",
    "                 'mean_wind_speed_mph', 'max_gust_speed_mph', 'wind_direction_cyclic',\n",
    "                 'precipitation_inches', 'cloud_cover', 'is_rainy', 'is_foggy']"
   ]
  },
  {
   "cell_type": "markdown",
   "metadata": {},
   "source": [
    "### Assign X as the features used to predict y"
   ]
  },
  {
   "cell_type": "code",
   "execution_count": 52,
   "metadata": {},
   "outputs": [],
   "source": [
    "X = data[data_features]"
   ]
  },
  {
   "cell_type": "markdown",
   "metadata": {},
   "source": [
    "### Initialize Classification Tree\n",
    "##### Added class_weight=\"balanced\" because our class distribution is very unbalanced. This variable balances the classes to improve the actual prediction capabilities of the model"
   ]
  },
  {
   "cell_type": "code",
   "execution_count": 53,
   "metadata": {},
   "outputs": [],
   "source": [
    "tree_model = DecisionTreeClassifier()"
   ]
  },
  {
   "cell_type": "code",
   "execution_count": 54,
   "metadata": {},
   "outputs": [
    {
     "data": {
      "text/plain": [
       "DecisionTreeClassifier(class_weight=None, criterion='gini', max_depth=None,\n",
       "            max_features=None, max_leaf_nodes=None,\n",
       "            min_impurity_decrease=0.0, min_impurity_split=None,\n",
       "            min_samples_leaf=1, min_samples_split=2,\n",
       "            min_weight_fraction_leaf=0.0, presort=False, random_state=None,\n",
       "            splitter='best')"
      ]
     },
     "execution_count": 54,
     "metadata": {},
     "output_type": "execute_result"
    }
   ],
   "source": [
    "tree_model.fit(X,y)"
   ]
  },
  {
   "cell_type": "markdown",
   "metadata": {},
   "source": [
    "### Figure out the importance of all the features to be able to select the most important ones"
   ]
  },
  {
   "cell_type": "code",
   "execution_count": 55,
   "metadata": {},
   "outputs": [],
   "source": [
    "importances = tree_model.feature_importances_"
   ]
  },
  {
   "cell_type": "code",
   "execution_count": 56,
   "metadata": {},
   "outputs": [],
   "source": [
    "feature_array = np.asarray(data_features)"
   ]
  },
  {
   "cell_type": "code",
   "execution_count": 57,
   "metadata": {},
   "outputs": [],
   "source": [
    "df = pd.DataFrame({'feature': feature_array, 'importance': importances})"
   ]
  },
  {
   "cell_type": "code",
   "execution_count": 58,
   "metadata": {
    "scrolled": true
   },
   "outputs": [
    {
     "data": {
      "text/html": [
       "<div>\n",
       "<style scoped>\n",
       "    .dataframe tbody tr th:only-of-type {\n",
       "        vertical-align: middle;\n",
       "    }\n",
       "\n",
       "    .dataframe tbody tr th {\n",
       "        vertical-align: top;\n",
       "    }\n",
       "\n",
       "    .dataframe thead th {\n",
       "        text-align: right;\n",
       "    }\n",
       "</style>\n",
       "<table border=\"1\" class=\"dataframe\">\n",
       "  <thead>\n",
       "    <tr style=\"text-align: right;\">\n",
       "      <th></th>\n",
       "      <th>feature</th>\n",
       "      <th>importance</th>\n",
       "    </tr>\n",
       "  </thead>\n",
       "  <tbody>\n",
       "    <tr>\n",
       "      <th>0</th>\n",
       "      <td>daytime_cyclic</td>\n",
       "      <td>0.453375</td>\n",
       "    </tr>\n",
       "    <tr>\n",
       "      <th>8</th>\n",
       "      <td>is_weekend</td>\n",
       "      <td>0.157833</td>\n",
       "    </tr>\n",
       "    <tr>\n",
       "      <th>39</th>\n",
       "      <td>wind_direction_cyclic</td>\n",
       "      <td>0.043530</td>\n",
       "    </tr>\n",
       "    <tr>\n",
       "      <th>21</th>\n",
       "      <td>max_temperature_f</td>\n",
       "      <td>0.028196</td>\n",
       "    </tr>\n",
       "    <tr>\n",
       "      <th>36</th>\n",
       "      <td>max_wind_Speed_mph</td>\n",
       "      <td>0.022703</td>\n",
       "    </tr>\n",
       "    <tr>\n",
       "      <th>41</th>\n",
       "      <td>cloud_cover</td>\n",
       "      <td>0.020994</td>\n",
       "    </tr>\n",
       "    <tr>\n",
       "      <th>28</th>\n",
       "      <td>mean_humidity</td>\n",
       "      <td>0.020611</td>\n",
       "    </tr>\n",
       "    <tr>\n",
       "      <th>30</th>\n",
       "      <td>max_sea_level_pressure_inches</td>\n",
       "      <td>0.020010</td>\n",
       "    </tr>\n",
       "    <tr>\n",
       "      <th>38</th>\n",
       "      <td>max_gust_speed_mph</td>\n",
       "      <td>0.019298</td>\n",
       "    </tr>\n",
       "    <tr>\n",
       "      <th>31</th>\n",
       "      <td>mean_sea_level_pressure_inches</td>\n",
       "      <td>0.017839</td>\n",
       "    </tr>\n",
       "    <tr>\n",
       "      <th>29</th>\n",
       "      <td>min_humidity</td>\n",
       "      <td>0.017500</td>\n",
       "    </tr>\n",
       "    <tr>\n",
       "      <th>35</th>\n",
       "      <td>min_visibility_miles</td>\n",
       "      <td>0.015910</td>\n",
       "    </tr>\n",
       "    <tr>\n",
       "      <th>27</th>\n",
       "      <td>max_humidity</td>\n",
       "      <td>0.015852</td>\n",
       "    </tr>\n",
       "    <tr>\n",
       "      <th>23</th>\n",
       "      <td>min_temperature_f</td>\n",
       "      <td>0.014790</td>\n",
       "    </tr>\n",
       "    <tr>\n",
       "      <th>37</th>\n",
       "      <td>mean_wind_speed_mph</td>\n",
       "      <td>0.014772</td>\n",
       "    </tr>\n",
       "    <tr>\n",
       "      <th>32</th>\n",
       "      <td>min_sea_level_pressure_inches</td>\n",
       "      <td>0.013453</td>\n",
       "    </tr>\n",
       "    <tr>\n",
       "      <th>26</th>\n",
       "      <td>min_dew_point_f</td>\n",
       "      <td>0.013357</td>\n",
       "    </tr>\n",
       "    <tr>\n",
       "      <th>22</th>\n",
       "      <td>mean_temperature_f</td>\n",
       "      <td>0.012844</td>\n",
       "    </tr>\n",
       "    <tr>\n",
       "      <th>24</th>\n",
       "      <td>max_dew_point_f</td>\n",
       "      <td>0.011887</td>\n",
       "    </tr>\n",
       "    <tr>\n",
       "      <th>25</th>\n",
       "      <td>mean_dew_point_f</td>\n",
       "      <td>0.009155</td>\n",
       "    </tr>\n",
       "    <tr>\n",
       "      <th>3</th>\n",
       "      <td>day_is_wednesday</td>\n",
       "      <td>0.005442</td>\n",
       "    </tr>\n",
       "    <tr>\n",
       "      <th>34</th>\n",
       "      <td>mean_visibility_miles</td>\n",
       "      <td>0.005099</td>\n",
       "    </tr>\n",
       "    <tr>\n",
       "      <th>5</th>\n",
       "      <td>day_is_friday</td>\n",
       "      <td>0.004540</td>\n",
       "    </tr>\n",
       "    <tr>\n",
       "      <th>40</th>\n",
       "      <td>precipitation_inches</td>\n",
       "      <td>0.004215</td>\n",
       "    </tr>\n",
       "    <tr>\n",
       "      <th>11</th>\n",
       "      <td>month_is_march</td>\n",
       "      <td>0.004174</td>\n",
       "    </tr>\n",
       "    <tr>\n",
       "      <th>4</th>\n",
       "      <td>day_is_thursday</td>\n",
       "      <td>0.003896</td>\n",
       "    </tr>\n",
       "    <tr>\n",
       "      <th>1</th>\n",
       "      <td>day_is_monday</td>\n",
       "      <td>0.003520</td>\n",
       "    </tr>\n",
       "    <tr>\n",
       "      <th>9</th>\n",
       "      <td>month_is_january</td>\n",
       "      <td>0.002733</td>\n",
       "    </tr>\n",
       "    <tr>\n",
       "      <th>16</th>\n",
       "      <td>month_is_august</td>\n",
       "      <td>0.002484</td>\n",
       "    </tr>\n",
       "    <tr>\n",
       "      <th>2</th>\n",
       "      <td>day_is_tuesday</td>\n",
       "      <td>0.002460</td>\n",
       "    </tr>\n",
       "    <tr>\n",
       "      <th>15</th>\n",
       "      <td>month_is_july</td>\n",
       "      <td>0.002441</td>\n",
       "    </tr>\n",
       "    <tr>\n",
       "      <th>19</th>\n",
       "      <td>month_is_november</td>\n",
       "      <td>0.002213</td>\n",
       "    </tr>\n",
       "    <tr>\n",
       "      <th>10</th>\n",
       "      <td>month_is_february</td>\n",
       "      <td>0.002078</td>\n",
       "    </tr>\n",
       "    <tr>\n",
       "      <th>13</th>\n",
       "      <td>month_is_may</td>\n",
       "      <td>0.001826</td>\n",
       "    </tr>\n",
       "    <tr>\n",
       "      <th>18</th>\n",
       "      <td>month_is_october</td>\n",
       "      <td>0.001689</td>\n",
       "    </tr>\n",
       "    <tr>\n",
       "      <th>20</th>\n",
       "      <td>month_is_december</td>\n",
       "      <td>0.001436</td>\n",
       "    </tr>\n",
       "    <tr>\n",
       "      <th>17</th>\n",
       "      <td>month_is_september</td>\n",
       "      <td>0.001205</td>\n",
       "    </tr>\n",
       "    <tr>\n",
       "      <th>14</th>\n",
       "      <td>month_is_june</td>\n",
       "      <td>0.001149</td>\n",
       "    </tr>\n",
       "    <tr>\n",
       "      <th>12</th>\n",
       "      <td>month_is_april</td>\n",
       "      <td>0.000854</td>\n",
       "    </tr>\n",
       "    <tr>\n",
       "      <th>43</th>\n",
       "      <td>is_foggy</td>\n",
       "      <td>0.000647</td>\n",
       "    </tr>\n",
       "    <tr>\n",
       "      <th>42</th>\n",
       "      <td>is_rainy</td>\n",
       "      <td>0.000607</td>\n",
       "    </tr>\n",
       "    <tr>\n",
       "      <th>7</th>\n",
       "      <td>day_is_sunday</td>\n",
       "      <td>0.000529</td>\n",
       "    </tr>\n",
       "    <tr>\n",
       "      <th>6</th>\n",
       "      <td>day_is_saturday</td>\n",
       "      <td>0.000522</td>\n",
       "    </tr>\n",
       "    <tr>\n",
       "      <th>33</th>\n",
       "      <td>max_visibility_miles</td>\n",
       "      <td>0.000331</td>\n",
       "    </tr>\n",
       "  </tbody>\n",
       "</table>\n",
       "</div>"
      ],
      "text/plain": [
       "                           feature  importance\n",
       "0                   daytime_cyclic    0.453375\n",
       "8                       is_weekend    0.157833\n",
       "39           wind_direction_cyclic    0.043530\n",
       "21               max_temperature_f    0.028196\n",
       "36              max_wind_Speed_mph    0.022703\n",
       "41                     cloud_cover    0.020994\n",
       "28                   mean_humidity    0.020611\n",
       "30   max_sea_level_pressure_inches    0.020010\n",
       "38              max_gust_speed_mph    0.019298\n",
       "31  mean_sea_level_pressure_inches    0.017839\n",
       "29                    min_humidity    0.017500\n",
       "35            min_visibility_miles    0.015910\n",
       "27                    max_humidity    0.015852\n",
       "23               min_temperature_f    0.014790\n",
       "37             mean_wind_speed_mph    0.014772\n",
       "32   min_sea_level_pressure_inches    0.013453\n",
       "26                 min_dew_point_f    0.013357\n",
       "22              mean_temperature_f    0.012844\n",
       "24                 max_dew_point_f    0.011887\n",
       "25                mean_dew_point_f    0.009155\n",
       "3                 day_is_wednesday    0.005442\n",
       "34           mean_visibility_miles    0.005099\n",
       "5                    day_is_friday    0.004540\n",
       "40            precipitation_inches    0.004215\n",
       "11                  month_is_march    0.004174\n",
       "4                  day_is_thursday    0.003896\n",
       "1                    day_is_monday    0.003520\n",
       "9                 month_is_january    0.002733\n",
       "16                 month_is_august    0.002484\n",
       "2                   day_is_tuesday    0.002460\n",
       "15                   month_is_july    0.002441\n",
       "19               month_is_november    0.002213\n",
       "10               month_is_february    0.002078\n",
       "13                    month_is_may    0.001826\n",
       "18                month_is_october    0.001689\n",
       "20               month_is_december    0.001436\n",
       "17              month_is_september    0.001205\n",
       "14                   month_is_june    0.001149\n",
       "12                  month_is_april    0.000854\n",
       "43                        is_foggy    0.000647\n",
       "42                        is_rainy    0.000607\n",
       "7                    day_is_sunday    0.000529\n",
       "6                  day_is_saturday    0.000522\n",
       "33            max_visibility_miles    0.000331"
      ]
     },
     "execution_count": 58,
     "metadata": {},
     "output_type": "execute_result"
    }
   ],
   "source": [
    "df.sort_values(by=\"importance\", ascending=False)"
   ]
  },
  {
   "cell_type": "markdown",
   "metadata": {},
   "source": [
    "##### For our classifier we will select all features that have an importance > 1%"
   ]
  },
  {
   "cell_type": "markdown",
   "metadata": {},
   "source": [
    "### Assign new feature set with only the relevant features"
   ]
  },
  {
   "cell_type": "code",
   "execution_count": 9,
   "metadata": {},
   "outputs": [],
   "source": [
    "important_features = [\"daytime_cyclic\", \"is_weekend\", \"wind_direction_cyclic\", \"max_temperature_f\", \"max_wind_Speed_mph\",\n",
    "                      \"cloud_cover\", \"mean_humidity\", \"max_sea_level_pressure_inches\", \"max_gust_speed_mph\", \"mean_sea_level_pressure_inches\",\n",
    "                      \"min_humidity\", \"min_visibility_miles\", \"max_humidity\", \"min_temperature_f\", \"mean_wind_speed_mph\", \n",
    "                      \"min_sea_level_pressure_inches\", \"min_dew_point_f\", \"mean_temperature_f\", \"max_dew_point_f\"]"
   ]
  },
  {
   "cell_type": "code",
   "execution_count": 10,
   "metadata": {},
   "outputs": [],
   "source": [
    "X2 = data[important_features]"
   ]
  },
  {
   "cell_type": "markdown",
   "metadata": {},
   "source": [
    "### Generate new model"
   ]
  },
  {
   "cell_type": "code",
   "execution_count": 62,
   "metadata": {},
   "outputs": [],
   "source": [
    "clf = DecisionTreeClassifier()"
   ]
  },
  {
   "cell_type": "markdown",
   "metadata": {},
   "source": [
    "### Calculate accuracies, then print them, then calculate mean accuracy of the model"
   ]
  },
  {
   "cell_type": "code",
   "execution_count": 63,
   "metadata": {},
   "outputs": [],
   "source": [
    "val_scores = cross_val_score(clf, X2, y, cv=5)"
   ]
  },
  {
   "cell_type": "code",
   "execution_count": 64,
   "metadata": {},
   "outputs": [
    {
     "name": "stdout",
     "output_type": "stream",
     "text": [
      "[0.79074437 0.79640721 0.79692157 0.75026375 0.80531774]\n"
     ]
    }
   ],
   "source": [
    "print(val_scores)"
   ]
  },
  {
   "cell_type": "code",
   "execution_count": 65,
   "metadata": {},
   "outputs": [
    {
     "name": "stdout",
     "output_type": "stream",
     "text": [
      "Accuracy: 0.79 (+/- 0.04)\n"
     ]
    }
   ],
   "source": [
    "print(\"Accuracy: %0.2f (+/- %0.2f)\" % (val_scores.mean(), val_scores.std() * 2))"
   ]
  },
  {
   "cell_type": "markdown",
   "metadata": {},
   "source": [
    "### Function that caluclates the optimum number of leaf nodes\n",
    "##### You can type in 4 values for the maximum leaf nodes. Then, a new model is created with each of those values and evaluated separately. Afterwards all the values are printed out so you can compare them with each other."
   ]
  },
  {
   "cell_type": "code",
   "execution_count": 83,
   "metadata": {},
   "outputs": [],
   "source": [
    "accuracy_list = []"
   ]
  },
  {
   "cell_type": "code",
   "execution_count": 84,
   "metadata": {},
   "outputs": [],
   "source": [
    "def calculate_max_leaf_nodes():\n",
    "    comp_var_a = input(\"Please enter a number to select leaf nodes: \")\n",
    "    comp_var_b = input(\"Please enter a number to select leaf nodes: \")\n",
    "    comp_var_c = input(\"Please enter a number to select leaf nodes: \")\n",
    "    comp_var_d = input(\"Please enter a number to select leaf nodes: \")\n",
    "\n",
    "    leaf_node_list = [int(comp_var_a), int(comp_var_b), int(comp_var_c), int(comp_var_d)]\n",
    "    \n",
    "    for max_leaf_nodes in leaf_node_list:\n",
    "    \n",
    "        model = DecisionTreeClassifier(max_leaf_nodes=max_leaf_nodes)\n",
    "        val_scores = cross_val_score(model, X2, y, cv=5)\n",
    "        mean_accuracy = val_scores.mean()\n",
    "        standard_dev = val_scores.std() * 2\n",
    "        accuracy_list.append(mean_accuracy)\n",
    "        print(\"Number of leaf nodes: {} \\t\\t Mean accuracy: {} (+/- {})\".format(max_leaf_nodes, mean_accuracy, standard_dev))\n",
    "    \n",
    "    return(accuracy_list)"
   ]
  },
  {
   "cell_type": "code",
   "execution_count": 85,
   "metadata": {},
   "outputs": [
    {
     "name": "stdout",
     "output_type": "stream",
     "text": [
      "Please enter a number to select leaf nodes: 5\n",
      "Please enter a number to select leaf nodes: 10\n",
      "Please enter a number to select leaf nodes: 15\n",
      "Please enter a number to select leaf nodes: 20\n",
      "Number of leaf nodes: 5 \t\t Mean accuracy: 0.8616400535091504 (+/- 0.008484279164917952)\n",
      "Number of leaf nodes: 10 \t\t Mean accuracy: 0.8650539329135578 (+/- 0.008295345343679143)\n",
      "Number of leaf nodes: 15 \t\t Mean accuracy: 0.8655955291910045 (+/- 0.01468620819824344)\n",
      "Number of leaf nodes: 20 \t\t Mean accuracy: 0.866211026617316 (+/- 0.00701443213803588)\n"
     ]
    },
    {
     "data": {
      "text/plain": [
       "[0.8616400535091504, 0.8650539329135578, 0.8655955291910045, 0.866211026617316]"
      ]
     },
     "execution_count": 85,
     "metadata": {},
     "output_type": "execute_result"
    }
   ],
   "source": [
    "calculate_max_leaf_nodes()"
   ]
  },
  {
   "cell_type": "code",
   "execution_count": 87,
   "metadata": {},
   "outputs": [
    {
     "name": "stdout",
     "output_type": "stream",
     "text": [
      "Please enter a number to select leaf nodes: 25\n",
      "Please enter a number to select leaf nodes: 30\n",
      "Please enter a number to select leaf nodes: 35\n",
      "Please enter a number to select leaf nodes: 40\n",
      "Number of leaf nodes: 25 \t\t Mean accuracy: 0.8626668600851612 (+/- 0.012541294463887983)\n",
      "Number of leaf nodes: 30 \t\t Mean accuracy: 0.8619580269895775 (+/- 0.010800476065214)\n",
      "Number of leaf nodes: 35 \t\t Mean accuracy: 0.8613308648896197 (+/- 0.009985145730220846)\n",
      "Number of leaf nodes: 40 \t\t Mean accuracy: 0.8631199743232478 (+/- 0.012753583800680222)\n"
     ]
    },
    {
     "data": {
      "text/plain": [
       "[0.8616400535091504,\n",
       " 0.8650539329135578,\n",
       " 0.8655955291910045,\n",
       " 0.866211026617316,\n",
       " 0.8626668600851612,\n",
       " 0.8619580269895775,\n",
       " 0.8613308648896197,\n",
       " 0.8631199743232478]"
      ]
     },
     "execution_count": 87,
     "metadata": {},
     "output_type": "execute_result"
    }
   ],
   "source": [
    "calculate_max_leaf_nodes()"
   ]
  },
  {
   "cell_type": "code",
   "execution_count": 91,
   "metadata": {},
   "outputs": [
    {
     "name": "stdout",
     "output_type": "stream",
     "text": [
      "Please enter a number to select leaf nodes: 45\n",
      "Please enter a number to select leaf nodes: 50\n",
      "Please enter a number to select leaf nodes: 55\n",
      "Please enter a number to select leaf nodes: 60\n",
      "Number of leaf nodes: 45 \t\t Mean accuracy: 0.8642683099220052 (+/- 0.01161733922576366)\n",
      "Number of leaf nodes: 50 \t\t Mean accuracy: 0.8635361373298093 (+/- 0.011334620281693365)\n",
      "Number of leaf nodes: 55 \t\t Mean accuracy: 0.8650160400103875 (+/- 0.011575134013328239)\n",
      "Number of leaf nodes: 60 \t\t Mean accuracy: 0.8625268500553442 (+/- 0.010298911494128975)\n"
     ]
    },
    {
     "data": {
      "text/plain": [
       "[0.8616400535091504,\n",
       " 0.8650539329135578,\n",
       " 0.8655955291910045,\n",
       " 0.866211026617316,\n",
       " 0.8626668600851612,\n",
       " 0.8619580269895775,\n",
       " 0.8613308648896197,\n",
       " 0.8631199743232478,\n",
       " 0.8642683099220052,\n",
       " 0.8635361373298093,\n",
       " 0.8650160400103875,\n",
       " 0.8625268500553442]"
      ]
     },
     "execution_count": 91,
     "metadata": {},
     "output_type": "execute_result"
    }
   ],
   "source": [
    "calculate_max_leaf_nodes()"
   ]
  },
  {
   "cell_type": "markdown",
   "metadata": {},
   "source": [
    "### Plotting the different accuracies of the tree"
   ]
  },
  {
   "cell_type": "code",
   "execution_count": 142,
   "metadata": {},
   "outputs": [
    {
     "data": {
      "image/png": "[encoded data removed]",
      "text/plain": [
       "<Figure size 432x288 with 1 Axes>"
      ]
     },
     "metadata": {
      "needs_background": "light"
     },
     "output_type": "display_data"
    }
   ],
   "source": [
    "leaf_nodes = [5, 10, 15, 20, 25, 30, 35, 40, 45, 50, 55, 60]\n",
    "\n",
    "plt.figure()\n",
    "plt.xlabel(\"Number of leaf nodes\")\n",
    "plt.ylabel(\"Mean accuracy\")\n",
    "plt.plot(leaf_nodes, accuracy_list)\n",
    "plt.show()"
   ]
  },
  {
   "cell_type": "markdown",
   "metadata": {},
   "source": [
    "### Function that caluclates the optimum number of the depth of the tree\n",
    "##### First, the function asks you to type in a value for the maximum leaf nodes. You can then type in 4 values for the maximum depth. Then, a new model is created with each of those values and evaluated separately. Afterwards all the values are printed out so you can compare them with each other."
   ]
  },
  {
   "cell_type": "code",
   "execution_count": 98,
   "metadata": {},
   "outputs": [],
   "source": [
    "def calculate_max_depth():\n",
    "    print(\"This functions compares four values for the maximum depth of the tree for their accuracy to find the most accurate one\")\n",
    "    max_leaf_nodes = int(input(\"Specify max leaf nodes: \"))\n",
    "    comp_var_a = input(\"Please enter tree depth: \")\n",
    "    comp_var_b = input(\"Please enter tree depth: \")\n",
    "    comp_var_c = input(\"Please enter tree depth: \")\n",
    "    comp_var_d = input(\"Please enter tree depth: \")\n",
    "\n",
    "    depth_list = [int(comp_var_a), int(comp_var_b), int(comp_var_c), int(comp_var_d)]\n",
    "    \n",
    "    for max_depth in depth_list:\n",
    "        model = DecisionTreeClassifier(max_leaf_nodes=max_leaf_nodes, max_depth=max_depth, class_weight=\"balanced\")\n",
    "        val_scores = cross_val_score(model, X2, y, cv=5)\n",
    "        mean_accuracy = val_scores.mean()\n",
    "        standard_dev = val_scores.std() * 2\n",
    "        print(\"Depth of tree: {} \\t\\t Mean accuracy: {} (+/- {})\".format(max_depth, mean_accuracy, standard_dev))"
   ]
  },
  {
   "cell_type": "markdown",
   "metadata": {},
   "source": [
    "### We use this final_tree to combine all our knowledge from before in a new model. From there on, it can be used to predict or to print it out"
   ]
  },
  {
   "cell_type": "code",
   "execution_count": 6,
   "metadata": {},
   "outputs": [],
   "source": [
    "final_tree = DecisionTreeClassifier(max_leaf_nodes=20)"
   ]
  },
  {
   "cell_type": "code",
   "execution_count": 11,
   "metadata": {},
   "outputs": [],
   "source": [
    "train_X, val_X, train_y, val_y = train_test_split(X2, y, random_state=0)"
   ]
  },
  {
   "cell_type": "code",
   "execution_count": 12,
   "metadata": {},
   "outputs": [
    {
     "data": {
      "text/plain": [
       "DecisionTreeClassifier(class_weight=None, criterion='gini', max_depth=None,\n",
       "            max_features=None, max_leaf_nodes=20,\n",
       "            min_impurity_decrease=0.0, min_impurity_split=None,\n",
       "            min_samples_leaf=1, min_samples_split=2,\n",
       "            min_weight_fraction_leaf=0.0, presort=False, random_state=None,\n",
       "            splitter='best')"
      ]
     },
     "execution_count": 12,
     "metadata": {},
     "output_type": "execute_result"
    }
   ],
   "source": [
    "final_tree.fit(train_X, train_y)"
   ]
  },
  {
   "cell_type": "code",
   "execution_count": 13,
   "metadata": {},
   "outputs": [],
   "source": [
    "val_predictions = final_tree.predict(val_X)"
   ]
  },
  {
   "cell_type": "code",
   "execution_count": 14,
   "metadata": {},
   "outputs": [],
   "source": [
    "class_names = final_tree.classes_\n",
    "feature_names = X2[0:]"
   ]
  },
  {
   "cell_type": "markdown",
   "metadata": {},
   "source": [
    "### Use a confusion matrix to calculate actual accurcy of the tree and calculate expected value"
   ]
  },
  {
   "cell_type": "code",
   "execution_count": 15,
   "metadata": {},
   "outputs": [],
   "source": [
    "y_true = val_y"
   ]
  },
  {
   "cell_type": "code",
   "execution_count": 16,
   "metadata": {},
   "outputs": [],
   "source": [
    "y_pred = val_predictions"
   ]
  },
  {
   "cell_type": "code",
   "execution_count": 17,
   "metadata": {},
   "outputs": [],
   "source": [
    "conf_matr = confusion_matrix(y_true, y_pred, labels=[\"yes\", \"no\"])"
   ]
  },
  {
   "cell_type": "code",
   "execution_count": 18,
   "metadata": {},
   "outputs": [],
   "source": [
    "df = pd.DataFrame({'Positve':conf_matr[:,0],'Negative':conf_matr[:,1]}, index=[\"Yes\", \"No\"])"
   ]
  },
  {
   "cell_type": "code",
   "execution_count": 19,
   "metadata": {},
   "outputs": [
    {
     "data": {
      "text/html": [
       "<div>\n",
       "<style scoped>\n",
       "    .dataframe tbody tr th:only-of-type {\n",
       "        vertical-align: middle;\n",
       "    }\n",
       "\n",
       "    .dataframe tbody tr th {\n",
       "        vertical-align: top;\n",
       "    }\n",
       "\n",
       "    .dataframe thead th {\n",
       "        text-align: right;\n",
       "    }\n",
       "</style>\n",
       "<table border=\"1\" class=\"dataframe\">\n",
       "  <thead>\n",
       "    <tr style=\"text-align: right;\">\n",
       "      <th></th>\n",
       "      <th>Positve</th>\n",
       "      <th>Negative</th>\n",
       "    </tr>\n",
       "  </thead>\n",
       "  <tbody>\n",
       "    <tr>\n",
       "      <th>Yes</th>\n",
       "      <td>207966</td>\n",
       "      <td>13251</td>\n",
       "    </tr>\n",
       "    <tr>\n",
       "      <th>No</th>\n",
       "      <td>17115</td>\n",
       "      <td>18780</td>\n",
       "    </tr>\n",
       "  </tbody>\n",
       "</table>\n",
       "</div>"
      ],
      "text/plain": [
       "     Positve  Negative\n",
       "Yes   207966     13251\n",
       "No     17115     18780"
      ]
     },
     "execution_count": 19,
     "metadata": {},
     "output_type": "execute_result"
    }
   ],
   "source": [
    "df"
   ]
  },
  {
   "cell_type": "code",
   "execution_count": 27,
   "metadata": {},
   "outputs": [],
   "source": [
    "tn, fp, fn, tp = confusion_matrix(y_true, y_pred).ravel()"
   ]
  },
  {
   "cell_type": "code",
   "execution_count": 28,
   "metadata": {},
   "outputs": [
    {
     "name": "stdout",
     "output_type": "stream",
     "text": [
      "0.8754200504060488\n"
     ]
    }
   ],
   "source": [
    "positive_rate = (tp + fp) / val_y.count()\n",
    "negative_rate = (tn + fn) / val_y.count()\n",
    "print(positive_rate)"
   ]
  },
  {
   "cell_type": "code",
   "execution_count": 29,
   "metadata": {},
   "outputs": [],
   "source": [
    "tp_rate = tp/ (tp + fp)\n",
    "fp_rate = fp/ (tp + fp)\n",
    "tn_rate = tn/ (tn + fn)\n",
    "fn_rate = fn/ (tn + fn) "
   ]
  },
  {
   "cell_type": "code",
   "execution_count": 30,
   "metadata": {},
   "outputs": [],
   "source": [
    "tp_benefit = 12 # our service is running and makes 12 dollar in 15 minutes\n",
    "fp_benefit = 9  # our service is running and makes 12 dollar in 15 minutes, but we have to pay our employee 3 for the restock\n",
    "tn_benefit = 9  # our service is running and makes 12 dollar in 15 minutes because our employee (3 dollar) restocked it\n",
    "fn_benefit = 0  # our service is not running and makes no money. We also do not pay our employee"
   ]
  },
  {
   "cell_type": "code",
   "execution_count": 33,
   "metadata": {},
   "outputs": [],
   "source": [
    "expected_value = positive_rate * ((tp_rate * tp_benefit) + (fp_rate * fp_benefit)) + negative_rate * ((tn_rate * tn_benefit) + (fn_rate * fn_benefit))"
   ]
  },
  {
   "cell_type": "markdown",
   "metadata": {},
   "source": [
    "##### With a positive_rate of 86% we have a baseline average revenue of 10.32 dollar"
   ]
  },
  {
   "cell_type": "code",
   "execution_count": 34,
   "metadata": {},
   "outputs": [
    {
     "data": {
      "text/plain": [
       "10.962720526463176"
      ]
     },
     "execution_count": 34,
     "metadata": {},
     "output_type": "execute_result"
    }
   ],
   "source": [
    "expected_value"
   ]
  },
  {
   "cell_type": "markdown",
   "metadata": {},
   "source": [
    "##### Our model raises the average revenue to 10.96 dollar"
   ]
  },
  {
   "cell_type": "markdown",
   "metadata": {},
   "source": [
    "### The following cells export a .dot and a .pdf file to visualize the tree"
   ]
  },
  {
   "cell_type": "code",
   "execution_count": 24,
   "metadata": {},
   "outputs": [],
   "source": [
    "tree.export_graphviz(final_tree, class_names=class_names, rounded=True, out_file=\"final_tree2.dot\")\n",
    "(graph,) = pydot.graph_from_dot_file('final_tree2.dot')"
   ]
  },
  {
   "cell_type": "code",
   "execution_count": 138,
   "metadata": {},
   "outputs": [],
   "source": [
    "graph.write_png('final_tree2.png')"
   ]
  },
  {
   "cell_type": "code",
   "execution_count": null,
   "metadata": {},
   "outputs": [],
   "source": []
  }
 ],
 "metadata": {
  "kernelspec": {
   "display_name": "Python 3",
   "language": "python",
   "name": "python3"
  },
  "language_info": {
   "codemirror_mode": {
    "name": "ipython",
    "version": 3
   },
   "file_extension": ".py",
   "mimetype": "text/x-python",
   "name": "python",
   "nbconvert_exporter": "python",
   "pygments_lexer": "ipython3",
   "version": "3.7.1"
  }
 },
 "nbformat": 4,
 "nbformat_minor": 2
}
